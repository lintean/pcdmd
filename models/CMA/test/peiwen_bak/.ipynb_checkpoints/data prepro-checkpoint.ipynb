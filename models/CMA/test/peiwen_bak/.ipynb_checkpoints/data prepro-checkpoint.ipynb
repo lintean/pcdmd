{
 "cells": [
  {
   "cell_type": "code",
   "execution_count": 4,
   "metadata": {},
   "outputs": [],
   "source": [
    "import scipy.io as scio\n",
    "import random\n",
    "import numpy as np\n",
    "import pandas as pd\n",
    "import pickle\n",
    "\n",
    "images_path='../D_MATLAB2/EEG_Headphones/S6_Tra'+str(1)+'.mat'\n",
    "images_data=scio.loadmat(images_path)"
   ]
  },
  {
   "cell_type": "code",
   "execution_count": 6,
   "metadata": {},
   "outputs": [
    {
     "name": "stdout",
     "output_type": "stream",
     "text": [
      "[[-9.26513041e-02 -6.98958566e-02 -3.24569527e-01 ...  1.91767638e-03\n",
      "   3.87820551e-02 -1.27945142e-01]\n",
      " [-1.11081585e+00 -1.96671535e-01 -7.43660138e-01 ...  1.40241633e+00\n",
      "   3.98124574e-02 -6.34357459e-02]\n",
      " [-1.24738582e+00 -2.54093150e-01 -1.28190693e+00 ...  8.32247589e-01\n",
      "   7.01280987e-01  5.75709177e-01]\n",
      " ...\n",
      " [-3.09801598e+00  2.33132917e+00  1.53351259e-01 ... -6.83278614e-01\n",
      "   5.63534475e-02 -1.07936531e+00]\n",
      " [-2.63604450e+00  1.64657517e+00  1.25040411e-01 ...  3.43360570e-01\n",
      "  -2.54407132e+00 -6.63756601e-01]\n",
      " [-1.10649583e+00  5.93214943e-01  7.83880333e-02 ...  2.88355930e-01\n",
      "  -1.10050927e+00 -2.10002132e-01]]\n"
     ]
    }
   ],
   "source": [
    "print(images_data[\"dataset\"])"
   ]
  },
  {
   "cell_type": "code",
   "execution_count": 8,
   "metadata": {},
   "outputs": [
    {
     "data": {
      "text/plain": [
       "(3500, 65)"
      ]
     },
     "execution_count": 8,
     "metadata": {},
     "output_type": "execute_result"
    }
   ],
   "source": [
    "images_data[\"dataset\"].shape"
   ]
  },
  {
   "cell_type": "code",
   "execution_count": 12,
   "metadata": {},
   "outputs": [
    {
     "name": "stdout",
     "output_type": "stream",
     "text": [
      "[[-0.14221668  0.02703279 -0.05435803 ... -0.17035807  0.02723077\n",
      "  -0.02244907]\n",
      " [-1.33264941  0.17338735 -0.70492864 ... -1.6163921   0.26226723\n",
      "  -0.50282603]\n",
      " [-1.604658    0.2249156  -0.71651455 ... -1.85894372  0.95139767\n",
      "  -0.34479733]\n",
      " ...\n",
      " [-1.75018751  1.77610064  1.34446031 ...  0.49271489 -0.64949469\n",
      "  -0.67164066]\n",
      " [-0.77984953  1.5808298   0.83423567 ...  0.76780991 -0.52274872\n",
      "  -0.74117898]\n",
      " [-0.25695456  0.59717483  0.77698516 ...  0.53654711 -0.20267758\n",
      "  -0.46418619]]\n"
     ]
    }
   ],
   "source": [
    "images_path='../D_MATLAB2/EEG_Speakers/S6_Tra'+str(1)+'.mat'\n",
    "data=scio.loadmat(images_path)\n",
    "print(data[\"dataset\"])"
   ]
  },
  {
   "cell_type": "code",
   "execution_count": 13,
   "metadata": {},
   "outputs": [
    {
     "data": {
      "text/plain": [
       "(3500, 65)"
      ]
     },
     "execution_count": 13,
     "metadata": {},
     "output_type": "execute_result"
    }
   ],
   "source": [
    "data[\"dataset\"].shape"
   ]
  },
  {
   "cell_type": "code",
   "execution_count": 19,
   "metadata": {},
   "outputs": [],
   "source": [
    "for i in range(7):\n",
    "    for j in range(5, 6, 1)\n",
    "    path = '../D_MATLAB2/EEG_Headphones/S5_Tra'+str(i+1)+'.mat'\n",
    "    data = scio.loadmat(path)\n",
    "    data = pd.DataFrame(data[\"dataset\"])\n",
    "    data.to_csv('../D_MATLAB2/EEG_Headphones/S5Tra'+str(i+1)+'.csv', index = False, header = False)"
   ]
  },
  {
   "cell_type": "code",
   "execution_count": null,
   "metadata": {},
   "outputs": [],
   "source": []
  }
 ],
 "metadata": {
  "kernelspec": {
   "display_name": "Python 3",
   "language": "python",
   "name": "python3"
  },
  "language_info": {
   "codemirror_mode": {
    "name": "ipython",
    "version": 3
   },
   "file_extension": ".py",
   "mimetype": "text/x-python",
   "name": "python",
   "nbconvert_exporter": "python",
   "pygments_lexer": "ipython3",
   "version": "3.7.4"
  }
 },
 "nbformat": 4,
 "nbformat_minor": 2
}
