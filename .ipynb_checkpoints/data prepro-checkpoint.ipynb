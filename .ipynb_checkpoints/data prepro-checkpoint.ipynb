{
 "cells": [
  {
   "cell_type": "code",
   "execution_count": 1,
   "metadata": {},
   "outputs": [],
   "source": [
    "import scipy.io as scio\n",
    "import random\n",
    "import numpy as np\n",
    "import pandas as pd\n",
    "import pickle\n",
    "import eegUtils.util as util\n",
    "from openTSNE import TSNE\n",
    "from openTSNE.callbacks import ErrorLogger"
   ]
  },
  {
   "cell_type": "code",
   "execution_count": 2,
   "metadata": {},
   "outputs": [],
   "source": [
    "name = \"S2\"\n",
    "data = np.load(\"./data_new/CNN1_\"+ name + \".npy\", allow_pickle=True)\n",
    "data_temp = np.concatenate((data[0], data[1]), axis=0)"
   ]
  },
  {
   "cell_type": "code",
   "execution_count": 3,
   "metadata": {},
   "outputs": [],
   "source": [
    "x = []\n",
    "y = []\n",
    "for i in range(data_temp.shape[0]):\n",
    "    for j in range(data_temp[i][\"data\"].shape[0]):\n",
    "        x.append(data_temp[i][\"data\"][j, 1:-1])\n",
    "        y.append(data_temp[i][\"direction\"] - 1)\n",
    "x = np.array(x)\n",
    "y = np.array(y)"
   ]
  },
  {
   "cell_type": "code",
   "execution_count": 4,
   "metadata": {},
   "outputs": [
    {
     "data": {
      "text/plain": [
       "(67200, 64)"
      ]
     },
     "execution_count": 4,
     "metadata": {},
     "output_type": "execute_result"
    }
   ],
   "source": [
    "x.shape"
   ]
  },
  {
   "cell_type": "code",
   "execution_count": 5,
   "metadata": {},
   "outputs": [
    {
     "name": "stderr",
     "output_type": "stream",
     "text": [
      "C:\\Users\\lipei\\Anaconda3\\lib\\site-packages\\openTSNE\\callbacks.py:55: FutureWarning: `ErrorLogger` will be removed in upcoming version. Please use the `verbose` flag instead.\n",
      "  category=FutureWarning,\n"
     ]
    }
   ],
   "source": [
    "tsne = TSNE(\n",
    "    perplexity=30,\n",
    "    metric=\"euclidean\",\n",
    "    callbacks=ErrorLogger(),\n",
    "    n_jobs=8,\n",
    "    random_state=42,\n",
    ")"
   ]
  },
  {
   "cell_type": "code",
   "execution_count": 6,
   "metadata": {},
   "outputs": [
    {
     "name": "stdout",
     "output_type": "stream",
     "text": [
      "Iteration   50, KL divergence  6.7861, 50 iterations in 2.4203 sec\n",
      "Iteration  100, KL divergence  6.5262, 50 iterations in 2.4544 sec\n",
      "Iteration  150, KL divergence  6.5172, 50 iterations in 2.5190 sec\n",
      "Iteration  200, KL divergence  6.5166, 50 iterations in 2.4810 sec\n",
      "Iteration  250, KL divergence  6.5166, 50 iterations in 2.4354 sec\n",
      "Iteration   50, KL divergence  4.8712, 50 iterations in 2.4787 sec\n",
      "Iteration  100, KL divergence  4.4958, 50 iterations in 2.4639 sec\n",
      "Iteration  150, KL divergence  4.2785, 50 iterations in 2.6938 sec\n",
      "Iteration  200, KL divergence  4.1351, 50 iterations in 3.4483 sec\n",
      "Iteration  250, KL divergence  4.0316, 50 iterations in 4.0933 sec\n",
      "Iteration  300, KL divergence  3.9530, 50 iterations in 4.7879 sec\n",
      "Iteration  350, KL divergence  3.8918, 50 iterations in 5.5588 sec\n",
      "Iteration  400, KL divergence  3.8429, 50 iterations in 6.4341 sec\n",
      "Iteration  450, KL divergence  3.8029, 50 iterations in 7.7116 sec\n",
      "Iteration  500, KL divergence  3.7698, 50 iterations in 8.5244 sec\n"
     ]
    }
   ],
   "source": [
    "embedding_train = tsne.fit(x)"
   ]
  },
  {
   "cell_type": "code",
   "execution_count": 7,
   "metadata": {},
   "outputs": [
    {
     "data": {
      "text/plain": [
       "(67200, 2)"
      ]
     },
     "execution_count": 7,
     "metadata": {},
     "output_type": "execute_result"
    }
   ],
   "source": [
    "embedding_train.shape"
   ]
  },
  {
   "cell_type": "code",
   "execution_count": 8,
   "metadata": {},
   "outputs": [
    {
     "data": {
      "text/plain": [
       "(67200,)"
      ]
     },
     "execution_count": 8,
     "metadata": {},
     "output_type": "execute_result"
    }
   ],
   "source": [
    "y.shape"
   ]
  },
  {
   "cell_type": "code",
   "execution_count": 9,
   "metadata": {},
   "outputs": [
    {
     "name": "stdout",
     "output_type": "stream",
     "text": [
      "[0 1]\n",
      "{'Amacrine cells': '#A5C93D', 'Astrocytes': '#8B006B', 'Bipolar cells': '#2000D7', 'Cones': '#538CBA', 'Fibroblasts': '#8B006B', 'Horizontal cells': '#B33B19', 'Microglia': '#8B006B', 'Muller glia': '#8B006B', 'Pericytes': '#8B006B', 'Retinal ganglion cells': '#C38A1F', 'Rods': '#538CBA', 'Vascular endothelium': '#8B006B'}\n"
     ]
    },
    {
     "ename": "KeyError",
     "evalue": "0",
     "output_type": "error",
     "traceback": [
      "\u001b[1;31m---------------------------------------------------------------------------\u001b[0m",
      "\u001b[1;31mKeyError\u001b[0m                                  Traceback (most recent call last)",
      "\u001b[1;32m<ipython-input-9-439828ec92e8>\u001b[0m in \u001b[0;36m<module>\u001b[1;34m\u001b[0m\n\u001b[0;32m      1\u001b[0m \u001b[1;32mimport\u001b[0m \u001b[0meegUtils\u001b[0m\u001b[1;33m.\u001b[0m\u001b[0mTSNEUtil\u001b[0m \u001b[1;32mas\u001b[0m \u001b[0mTSNEUtil\u001b[0m\u001b[1;33m\u001b[0m\u001b[1;33m\u001b[0m\u001b[0m\n\u001b[1;32m----> 2\u001b[1;33m \u001b[0mTSNEUtil\u001b[0m\u001b[1;33m.\u001b[0m\u001b[0mplot\u001b[0m\u001b[1;33m(\u001b[0m\u001b[0membedding_train\u001b[0m\u001b[1;33m,\u001b[0m \u001b[0my\u001b[0m\u001b[1;33m,\u001b[0m \u001b[0mcolors\u001b[0m\u001b[1;33m=\u001b[0m\u001b[0mTSNEUtil\u001b[0m\u001b[1;33m.\u001b[0m\u001b[0mMACOSKO_COLORS\u001b[0m\u001b[1;33m)\u001b[0m\u001b[1;33m\u001b[0m\u001b[1;33m\u001b[0m\u001b[0m\n\u001b[0m",
      "\u001b[1;32mD:\\origin\\EEG\\peiwen\\eegUtils\\TSNEUtil.py\u001b[0m in \u001b[0;36mplot\u001b[1;34m(x, y, ax, title, draw_legend, draw_centers, draw_cluster_labels, colors, legend_kwargs, label_order, **kwargs)\u001b[0m\n\u001b[0;32m    350\u001b[0m                 \u001b[0mmarkeredgecolor\u001b[0m\u001b[1;33m=\u001b[0m\u001b[1;34m\"k\"\u001b[0m\u001b[1;33m,\u001b[0m\u001b[1;33m\u001b[0m\u001b[1;33m\u001b[0m\u001b[0m\n\u001b[0;32m    351\u001b[0m             )\n\u001b[1;32m--> 352\u001b[1;33m             \u001b[1;32mfor\u001b[0m \u001b[0myi\u001b[0m \u001b[1;32min\u001b[0m \u001b[0mclasses\u001b[0m\u001b[1;33m\u001b[0m\u001b[1;33m\u001b[0m\u001b[0m\n\u001b[0m\u001b[0;32m    353\u001b[0m         ]\n\u001b[0;32m    354\u001b[0m         \u001b[0mlegend_kwargs_\u001b[0m \u001b[1;33m=\u001b[0m \u001b[0mdict\u001b[0m\u001b[1;33m(\u001b[0m\u001b[0mloc\u001b[0m\u001b[1;33m=\u001b[0m\u001b[1;34m\"center left\"\u001b[0m\u001b[1;33m,\u001b[0m \u001b[0mbbox_to_anchor\u001b[0m\u001b[1;33m=\u001b[0m\u001b[1;33m(\u001b[0m\u001b[1;36m1\u001b[0m\u001b[1;33m,\u001b[0m \u001b[1;36m0.5\u001b[0m\u001b[1;33m)\u001b[0m\u001b[1;33m,\u001b[0m \u001b[0mframeon\u001b[0m\u001b[1;33m=\u001b[0m\u001b[1;32mFalse\u001b[0m\u001b[1;33m,\u001b[0m \u001b[1;33m)\u001b[0m\u001b[1;33m\u001b[0m\u001b[1;33m\u001b[0m\u001b[0m\n",
      "\u001b[1;32mD:\\origin\\EEG\\peiwen\\eegUtils\\TSNEUtil.py\u001b[0m in \u001b[0;36m<listcomp>\u001b[1;34m(.0)\u001b[0m\n\u001b[0;32m    350\u001b[0m                 \u001b[0mmarkeredgecolor\u001b[0m\u001b[1;33m=\u001b[0m\u001b[1;34m\"k\"\u001b[0m\u001b[1;33m,\u001b[0m\u001b[1;33m\u001b[0m\u001b[1;33m\u001b[0m\u001b[0m\n\u001b[0;32m    351\u001b[0m             )\n\u001b[1;32m--> 352\u001b[1;33m             \u001b[1;32mfor\u001b[0m \u001b[0myi\u001b[0m \u001b[1;32min\u001b[0m \u001b[0mclasses\u001b[0m\u001b[1;33m\u001b[0m\u001b[1;33m\u001b[0m\u001b[0m\n\u001b[0m\u001b[0;32m    353\u001b[0m         ]\n\u001b[0;32m    354\u001b[0m         \u001b[0mlegend_kwargs_\u001b[0m \u001b[1;33m=\u001b[0m \u001b[0mdict\u001b[0m\u001b[1;33m(\u001b[0m\u001b[0mloc\u001b[0m\u001b[1;33m=\u001b[0m\u001b[1;34m\"center left\"\u001b[0m\u001b[1;33m,\u001b[0m \u001b[0mbbox_to_anchor\u001b[0m\u001b[1;33m=\u001b[0m\u001b[1;33m(\u001b[0m\u001b[1;36m1\u001b[0m\u001b[1;33m,\u001b[0m \u001b[1;36m0.5\u001b[0m\u001b[1;33m)\u001b[0m\u001b[1;33m,\u001b[0m \u001b[0mframeon\u001b[0m\u001b[1;33m=\u001b[0m\u001b[1;32mFalse\u001b[0m\u001b[1;33m,\u001b[0m \u001b[1;33m)\u001b[0m\u001b[1;33m\u001b[0m\u001b[1;33m\u001b[0m\u001b[0m\n",
      "\u001b[1;31mKeyError\u001b[0m: 0"
     ]
    },
    {
     "name": "stderr",
     "output_type": "stream",
     "text": [
      "C:\\Users\\lipei\\Anaconda3\\lib\\site-packages\\matplotlib\\colors.py:933: UserWarning: Warning: converting a masked element to nan.\n",
      "  dtype = np.min_scalar_type(value)\n",
      "C:\\Users\\lipei\\Anaconda3\\lib\\site-packages\\numpy\\ma\\core.py:713: UserWarning: Warning: converting a masked element to nan.\n",
      "  data = np.array(a, copy=False, subok=subok)\n"
     ]
    },
    {
     "data": {
      "image/png": "[encoded data removed]",
      "text/plain": [
       "<Figure size 576x576 with 1 Axes>"
      ]
     },
     "metadata": {},
     "output_type": "display_data"
    }
   ],
   "source": [
    "import eegUtils.TSNEUtil as TSNEUtil\n",
    "TSNEUtil.plot(embedding_train, y, colors=TSNEUtil.MOUSE_10X_COLORS)"
   ]
  },
  {
   "cell_type": "code",
   "execution_count": null,
   "metadata": {},
   "outputs": [],
   "source": []
  }
 ],
 "metadata": {
  "kernelspec": {
   "display_name": "Python 3",
   "language": "python",
   "name": "python3"
  },
  "language_info": {
   "codemirror_mode": {
    "name": "ipython",
    "version": 3
   },
   "file_extension": ".py",
   "mimetype": "text/x-python",
   "name": "python",
   "nbconvert_exporter": "python",
   "pygments_lexer": "ipython3",
   "version": "3.7.4"
  }
 },
 "nbformat": 4,
 "nbformat_minor": 2
}
