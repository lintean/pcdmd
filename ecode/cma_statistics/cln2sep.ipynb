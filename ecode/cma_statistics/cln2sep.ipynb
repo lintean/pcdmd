{
 "cells": [
  {
   "cell_type": "code",
   "execution_count": null,
   "metadata": {
    "collapsed": true
   },
   "outputs": [],
   "source": [
    "from train import init\n",
    "from dotmap import DotMap\n",
    "from eutils.torch.train_utils import get_data_loader, load, testEpoch"
   ]
  },
  {
   "cell_type": "code",
   "execution_count": null,
   "outputs": [],
   "source": [
    "name: str = \"S1\"\n",
    "log_path: str = \"./result/test\"\n",
    "local: DotMap = DotMap()\n",
    "args: DotMap = DotMap()\n",
    "local = init(name, log_path, local, args)\n",
    "\n",
    "data_loader = None\n",
    "data_loader, args, local = get_data_loader(data_loader=data_loader, args=args, local=local)\n",
    "util.save_model(aad_model=local.aad_model, local=local, seed=args.random_seed)\n",
    "# 测试最后一个模型\n",
    "local.logger.info(\"test:\")\n",
    "testEpoch(data_loader, local, args)"
   ],
   "metadata": {
    "collapsed": false,
    "pycharm": {
     "name": "#%%\n"
    }
   }
  }
 ],
 "metadata": {
  "kernelspec": {
   "display_name": "Python 3",
   "language": "python",
   "name": "python3"
  },
  "language_info": {
   "codemirror_mode": {
    "name": "ipython",
    "version": 2
   },
   "file_extension": ".py",
   "mimetype": "text/x-python",
   "name": "python",
   "nbconvert_exporter": "python",
   "pygments_lexer": "ipython2",
   "version": "2.7.6"
  }
 },
 "nbformat": 4,
 "nbformat_minor": 0
}