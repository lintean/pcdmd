{
 "cells": [
  {
   "cell_type": "code",
   "execution_count": 1,
   "metadata": {
    "collapsed": true
   },
   "outputs": [],
   "source": [
    "import numpy as np\n",
    "import pandas as pd\n",
    "import scipy.io as scio"
   ]
  },
  {
   "cell_type": "code",
   "execution_count": 2,
   "outputs": [
    {
     "name": "stdout",
     "output_type": "stream",
     "text": [
      "       trail1    trail2    trail3    trail4    trail5    trail6    trail7  \\\n",
      "S1   0.559441  0.559441  0.510490  0.482517  0.251748  0.993007  0.447552   \n",
      "S2   0.566434  0.405594  0.482517  0.510490  0.489510  0.580420  0.489510   \n",
      "S3   0.580420  0.384615  0.566434  0.496503  0.328671  0.552448  0.433566   \n",
      "S4   0.986014  0.951049  0.531469  0.468531  1.000000  0.979021  0.482517   \n",
      "S5   0.370629  0.629371  0.517483  0.538462  0.657343  0.370629  0.461538   \n",
      "S6   0.748252  0.881119  0.496503  0.608392  0.895105  0.090909  0.496503   \n",
      "S7   0.944056  0.944056  0.475524  0.412587  0.916084  0.951049  0.559441   \n",
      "S8   0.937063  0.965035  0.552448  0.489510  0.979021  0.993007  0.489510   \n",
      "S9   0.615385  0.370629  0.496503  0.538462  0.370629  0.713287  0.559441   \n",
      "S10  0.433566  0.587413  0.503497  0.482517  0.566434  0.489510  0.468531   \n",
      "S11  0.916084  0.958042  0.538462  0.468531  0.692308  1.000000  0.517483   \n",
      "S12  1.000000  0.993007  0.545455  0.517483  1.000000  1.000000  0.440559   \n",
      "S13  0.594406  0.454545  0.461538  0.489510  0.349650  0.559441  0.552448   \n",
      "S14  0.797203  0.370629  0.503497  0.363636  0.538462  0.580420  0.545455   \n",
      "S15  0.629371  0.895105  0.475524  0.517483  0.363636  0.706294  0.538462   \n",
      "S16  0.328671  0.706294  0.475524  0.426573  0.643357  0.307692  0.545455   \n",
      "\n",
      "       trail8  \n",
      "S1   0.475524  \n",
      "S2   0.440559  \n",
      "S3   0.559441  \n",
      "S4   0.503497  \n",
      "S5   0.468531  \n",
      "S6   0.517483  \n",
      "S7   0.454545  \n",
      "S8   0.566434  \n",
      "S9   0.601399  \n",
      "S10  0.615385  \n",
      "S11  0.489510  \n",
      "S12  0.531469  \n",
      "S13  0.482517  \n",
      "S14  0.433566  \n",
      "S15  0.475524  \n",
      "S16  0.524476  \n"
     ]
    }
   ],
   "source": [
    "base_path = f\"E:\\\\school\\origin\\EEG\\\\result\\\\cma_Encoder_clean_speech_2022-11-14_23_02_29\\\\flod_0\"\n",
    "trail_num = 8\n",
    "sub_num = 16\n",
    "\n",
    "sub_acc = []\n",
    "for sub in range(sub_num):\n",
    "    file_path = f\"{base_path}\\\\result_S{sub + 1}.csv\"\n",
    "    df = pd.read_csv(file_path, index_col=None)\n",
    "    trail_acc = []\n",
    "    for i in range(trail_num):\n",
    "        tmp_df = df[df['trail_number'] == i]\n",
    "        trail_acc.append(tmp_df['classification'].sum() / tmp_df.shape[0])\n",
    "    sub_acc.append(trail_acc)\n",
    "\n",
    "sub_acc = pd.DataFrame(np.array(sub_acc), index=[f\"S{i + 1}\" for i in range(sub_num)], columns=[f\"trail{i + 1}\" for i in range(trail_num)])\n",
    "print(sub_acc)"
   ],
   "metadata": {
    "collapsed": false,
    "pycharm": {
     "name": "#%%\n"
    }
   }
  },
  {
   "cell_type": "code",
   "execution_count": 3,
   "outputs": [
    {
     "name": "stdout",
     "output_type": "stream",
     "text": [
      "                    trail1                 trail2                 trail3  \\\n",
      "S1   part1_track2_hrtf.wav  part2_track1_hrtf.wav   part3_track2_dry.wav   \n",
      "S2   part1_track1_hrtf.wav   part2_track2_dry.wav   part3_track1_dry.wav   \n",
      "S3    part1_track2_dry.wav   part2_track1_dry.wav  part3_track2_hrtf.wav   \n",
      "S4    part1_track1_dry.wav  part2_track2_hrtf.wav  part3_track1_hrtf.wav   \n",
      "S5   part1_track2_hrtf.wav  part2_track1_hrtf.wav   part3_track2_dry.wav   \n",
      "S6   part1_track1_hrtf.wav   part2_track2_dry.wav   part3_track1_dry.wav   \n",
      "S7    part1_track2_dry.wav   part2_track1_dry.wav  part3_track2_hrtf.wav   \n",
      "S8    part1_track1_dry.wav  part2_track2_hrtf.wav  part3_track1_hrtf.wav   \n",
      "S9   part1_track1_hrtf.wav   part2_track2_dry.wav   part3_track1_dry.wav   \n",
      "S10   part1_track2_dry.wav   part2_track1_dry.wav  part3_track2_hrtf.wav   \n",
      "S11   part1_track1_dry.wav  part2_track2_hrtf.wav  part3_track1_hrtf.wav   \n",
      "S12  part1_track2_hrtf.wav  part2_track1_hrtf.wav   part3_track2_dry.wav   \n",
      "S13  part1_track1_hrtf.wav   part2_track2_dry.wav   part3_track1_dry.wav   \n",
      "S14   part1_track2_dry.wav   part2_track1_dry.wav  part3_track2_hrtf.wav   \n",
      "S15   part1_track1_dry.wav  part2_track2_hrtf.wav  part3_track1_hrtf.wav   \n",
      "S16  part1_track2_hrtf.wav  part2_track1_hrtf.wav   part3_track2_dry.wav   \n",
      "\n",
      "                    trail4                 trail5                 trail6  \\\n",
      "S1    part4_track1_dry.wav  part1_track1_hrtf.wav  part2_track2_hrtf.wav   \n",
      "S2   part4_track2_hrtf.wav  part1_track2_hrtf.wav   part2_track1_dry.wav   \n",
      "S3   part4_track1_hrtf.wav   part1_track1_dry.wav   part2_track2_dry.wav   \n",
      "S4    part4_track2_dry.wav   part1_track2_dry.wav  part2_track1_hrtf.wav   \n",
      "S5    part4_track1_dry.wav  part1_track1_hrtf.wav  part2_track2_hrtf.wav   \n",
      "S6   part4_track2_hrtf.wav  part1_track2_hrtf.wav   part2_track1_dry.wav   \n",
      "S7   part4_track1_hrtf.wav   part1_track1_dry.wav   part2_track2_dry.wav   \n",
      "S8    part4_track2_dry.wav   part1_track2_dry.wav  part2_track1_hrtf.wav   \n",
      "S9   part4_track2_hrtf.wav  part1_track2_hrtf.wav   part2_track1_dry.wav   \n",
      "S10  part4_track1_hrtf.wav   part1_track1_dry.wav   part2_track2_dry.wav   \n",
      "S11   part4_track2_dry.wav   part1_track2_dry.wav  part2_track1_hrtf.wav   \n",
      "S12   part4_track1_dry.wav  part1_track1_hrtf.wav  part2_track2_hrtf.wav   \n",
      "S13  part4_track2_hrtf.wav  part1_track2_hrtf.wav   part2_track1_dry.wav   \n",
      "S14  part4_track1_hrtf.wav   part1_track1_dry.wav   part2_track2_dry.wav   \n",
      "S15   part4_track2_dry.wav   part1_track2_dry.wav  part2_track1_hrtf.wav   \n",
      "S16   part4_track1_dry.wav  part1_track1_hrtf.wav  part2_track2_hrtf.wav   \n",
      "\n",
      "                    trail7                 trail8  \n",
      "S1    part3_track1_dry.wav   part4_track2_dry.wav  \n",
      "S2    part3_track2_dry.wav  part4_track1_hrtf.wav  \n",
      "S3   part3_track1_hrtf.wav  part4_track2_hrtf.wav  \n",
      "S4   part3_track2_hrtf.wav   part4_track1_dry.wav  \n",
      "S5    part3_track1_dry.wav   part4_track2_dry.wav  \n",
      "S6    part3_track2_dry.wav  part4_track1_hrtf.wav  \n",
      "S7   part3_track1_hrtf.wav  part4_track2_hrtf.wav  \n",
      "S8   part3_track2_hrtf.wav   part4_track1_dry.wav  \n",
      "S9    part3_track2_dry.wav  part4_track1_hrtf.wav  \n",
      "S10  part3_track1_hrtf.wav  part4_track2_hrtf.wav  \n",
      "S11  part3_track2_hrtf.wav   part4_track1_dry.wav  \n",
      "S12   part3_track1_dry.wav   part4_track2_dry.wav  \n",
      "S13   part3_track2_dry.wav  part4_track1_hrtf.wav  \n",
      "S14  part3_track1_hrtf.wav  part4_track2_hrtf.wav  \n",
      "S15  part3_track2_hrtf.wav   part4_track1_dry.wav  \n",
      "S16   part3_track1_dry.wav   part4_track2_dry.wav  \n",
      "                    trail1                 trail2                 trail3  \\\n",
      "S1   part1_track1_hrtf.wav  part2_track2_hrtf.wav   part3_track1_dry.wav   \n",
      "S2   part1_track2_hrtf.wav   part2_track1_dry.wav   part3_track2_dry.wav   \n",
      "S3    part1_track1_dry.wav   part2_track2_dry.wav  part3_track1_hrtf.wav   \n",
      "S4    part1_track2_dry.wav  part2_track1_hrtf.wav  part3_track2_hrtf.wav   \n",
      "S5   part1_track1_hrtf.wav  part2_track2_hrtf.wav   part3_track1_dry.wav   \n",
      "S6   part1_track2_hrtf.wav   part2_track1_dry.wav   part3_track2_dry.wav   \n",
      "S7    part1_track1_dry.wav   part2_track2_dry.wav  part3_track1_hrtf.wav   \n",
      "S8    part1_track2_dry.wav  part2_track1_hrtf.wav  part3_track2_hrtf.wav   \n",
      "S9   part1_track2_hrtf.wav   part2_track1_dry.wav   part3_track2_dry.wav   \n",
      "S10   part1_track1_dry.wav   part2_track2_dry.wav  part3_track1_hrtf.wav   \n",
      "S11   part1_track2_dry.wav  part2_track1_hrtf.wav  part3_track2_hrtf.wav   \n",
      "S12  part1_track1_hrtf.wav  part2_track2_hrtf.wav   part3_track1_dry.wav   \n",
      "S13  part1_track2_hrtf.wav   part2_track1_dry.wav   part3_track2_dry.wav   \n",
      "S14   part1_track1_dry.wav   part2_track2_dry.wav  part3_track1_hrtf.wav   \n",
      "S15   part1_track2_dry.wav  part2_track1_hrtf.wav  part3_track2_hrtf.wav   \n",
      "S16  part1_track1_hrtf.wav  part2_track2_hrtf.wav   part3_track1_dry.wav   \n",
      "\n",
      "                    trail4                 trail5                 trail6  \\\n",
      "S1    part4_track2_dry.wav  part1_track2_hrtf.wav  part2_track1_hrtf.wav   \n",
      "S2   part4_track1_hrtf.wav  part1_track1_hrtf.wav   part2_track2_dry.wav   \n",
      "S3   part4_track2_hrtf.wav   part1_track2_dry.wav   part2_track1_dry.wav   \n",
      "S4    part4_track1_dry.wav   part1_track1_dry.wav  part2_track2_hrtf.wav   \n",
      "S5    part4_track2_dry.wav  part1_track2_hrtf.wav  part2_track1_hrtf.wav   \n",
      "S6   part4_track1_hrtf.wav  part1_track1_hrtf.wav   part2_track2_dry.wav   \n",
      "S7   part4_track2_hrtf.wav   part1_track2_dry.wav   part2_track1_dry.wav   \n",
      "S8    part4_track1_dry.wav   part1_track1_dry.wav  part2_track2_hrtf.wav   \n",
      "S9   part4_track1_hrtf.wav  part1_track1_hrtf.wav   part2_track2_dry.wav   \n",
      "S10  part4_track2_hrtf.wav   part1_track2_dry.wav   part2_track1_dry.wav   \n",
      "S11   part4_track1_dry.wav   part1_track1_dry.wav  part2_track2_hrtf.wav   \n",
      "S12   part4_track2_dry.wav  part1_track2_hrtf.wav  part2_track1_hrtf.wav   \n",
      "S13  part4_track1_hrtf.wav  part1_track1_hrtf.wav   part2_track2_dry.wav   \n",
      "S14  part4_track2_hrtf.wav   part1_track2_dry.wav   part2_track1_dry.wav   \n",
      "S15   part4_track1_dry.wav   part1_track1_dry.wav  part2_track2_hrtf.wav   \n",
      "S16   part4_track2_dry.wav  part1_track2_hrtf.wav  part2_track1_hrtf.wav   \n",
      "\n",
      "                    trail7                 trail8  \n",
      "S1    part3_track2_dry.wav   part4_track1_dry.wav  \n",
      "S2    part3_track1_dry.wav  part4_track2_hrtf.wav  \n",
      "S3   part3_track2_hrtf.wav  part4_track1_hrtf.wav  \n",
      "S4   part3_track1_hrtf.wav   part4_track2_dry.wav  \n",
      "S5    part3_track2_dry.wav   part4_track1_dry.wav  \n",
      "S6    part3_track1_dry.wav  part4_track2_hrtf.wav  \n",
      "S7   part3_track2_hrtf.wav  part4_track1_hrtf.wav  \n",
      "S8   part3_track1_hrtf.wav   part4_track2_dry.wav  \n",
      "S9    part3_track1_dry.wav  part4_track2_hrtf.wav  \n",
      "S10  part3_track2_hrtf.wav  part4_track1_hrtf.wav  \n",
      "S11  part3_track1_hrtf.wav   part4_track2_dry.wav  \n",
      "S12   part3_track2_dry.wav   part4_track1_dry.wav  \n",
      "S13   part3_track1_dry.wav  part4_track2_hrtf.wav  \n",
      "S14  part3_track2_hrtf.wav  part4_track1_hrtf.wav  \n",
      "S15  part3_track1_hrtf.wav   part4_track2_dry.wav  \n",
      "S16   part3_track2_dry.wav   part4_track1_dry.wav  \n"
     ]
    }
   ],
   "source": [
    "data_path = f\"E:\\eegdata\\KUL_multiple_single_origin_1to32\"\n",
    "order_path = f\"{data_path}\\order.mat\"\n",
    "dm = scio.loadmat(order_path)\n",
    "left_files, right_files = dm['left'], dm['right']\n",
    "\n",
    "sub_left, sub_right = [], []\n",
    "for sub in range(sub_num):\n",
    "    trail_left, trail_right = [], []\n",
    "    for i in range(trail_num):\n",
    "        trail_left.append(left_files[sub, i][0])\n",
    "        trail_right.append(right_files[sub, i][0])\n",
    "    sub_left.append(trail_left)\n",
    "    sub_right.append(trail_right)\n",
    "\n",
    "sub_left = pd.DataFrame(np.array(sub_left), index=[f\"S{i + 1}\" for i in range(sub_num)], columns=[f\"trail{i + 1}\" for i in range(trail_num)])\n",
    "sub_right = pd.DataFrame(np.array(sub_right), index=[f\"S{i + 1}\" for i in range(sub_num)], columns=[f\"trail{i + 1}\" for i in range(trail_num)])\n",
    "print(sub_left)\n",
    "print(sub_right)"
   ],
   "metadata": {
    "collapsed": false,
    "pycharm": {
     "name": "#%%\n"
    }
   }
  },
  {
   "cell_type": "code",
   "execution_count": 4,
   "outputs": [],
   "source": [
    "sub_acc.to_csv(f\"{base_path}\\sub_acc.csv\")\n",
    "sub_left.to_csv(f\"{base_path}\\sub_left.csv\")\n",
    "sub_right.to_csv(f\"{base_path}\\sub_right.csv\")"
   ],
   "metadata": {
    "collapsed": false,
    "pycharm": {
     "name": "#%%\n"
    }
   }
  }
 ],
 "metadata": {
  "kernelspec": {
   "display_name": "Python 3",
   "language": "python",
   "name": "python3"
  },
  "language_info": {
   "codemirror_mode": {
    "name": "ipython",
    "version": 2
   },
   "file_extension": ".py",
   "mimetype": "text/x-python",
   "name": "python",
   "nbconvert_exporter": "python",
   "pygments_lexer": "ipython2",
   "version": "2.7.6"
  }
 },
 "nbformat": 4,
 "nbformat_minor": 0
}