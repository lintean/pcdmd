{
 "cells": [
  {
   "cell_type": "code",
   "execution_count": 1,
   "metadata": {
    "collapsed": true
   },
   "outputs": [],
   "source": [
    "import numpy as np\n",
    "import torch\n",
    "import torch.nn.functional as func\n",
    "from train import init\n",
    "from eutils.split_utils import *\n",
    "from eutils.torch.train_utils import get_data_loader, single_model, load, testEpoch\n",
    "from matplotlib import pyplot as plt"
   ]
  },
  {
   "cell_type": "code",
   "execution_count": 2,
   "outputs": [],
   "source": [
    "def get_cos(dataloader, local, args, mode=\"test\"):\n",
    "    cos = []\n",
    "    with torch.set_grad_enabled(mode == \"train\"):\n",
    "        losses, predict, targets = 0, [], []\n",
    "\n",
    "        for (wav1, wav2, eeg, label, batch_idx) in dataloader:\n",
    "            if len(label.shape) == 1:\n",
    "                label = func.one_hot(label, num_classes=2).float()\n",
    "            local.aad_model.optim.zero_grad()\n",
    "\n",
    "            out, all_target, weights = local.aad_model.model(wav1, wav2, eeg, label)\n",
    "\n",
    "            loss = local.aad_model.loss(out, all_target)\n",
    "            losses = losses + loss.cpu().detach().numpy()\n",
    "            cos.append(out.cpu().detach().numpy())\n",
    "\n",
    "            predict.append(out)\n",
    "            targets.append(all_target)\n",
    "            if mode == \"train\":\n",
    "                loss.backward()\n",
    "                local.aad_model.optim.step()\n",
    "\n",
    "        average_loss = losses / len(dataloader)\n",
    "        output = (predict, targets, average_loss) if mode == \"test\" else average_loss\n",
    "        return cos\n",
    "\n",
    "\n",
    "def cos_analysis(dataloader, local, args):\n",
    "    tng_loader, tes_loader = data_loader\n",
    "    cos1 = get_cos(tng_loader, local, args)\n",
    "    cos2 = get_cos(tes_loader, local, args)\n",
    "    cos1.extend(cos2)\n",
    "    return cos1\n"
   ],
   "metadata": {
    "collapsed": false,
    "pycharm": {
     "name": "#%%\n"
    }
   }
  },
  {
   "cell_type": "code",
   "execution_count": 3,
   "outputs": [
    {
     "name": "stderr",
     "output_type": "stream",
     "text": [
      "2022-11-26 22:08:29,537 - INFO: data path: D:\\eegdata/KUL_single_single_separate_1to32_new\n",
      "2022-11-26 22:08:29,539 - INFO: window length: 128\n",
      "2022-11-26 22:08:29,540 - INFO: overlap: 0.5\n"
     ]
    },
    {
     "name": "stdout",
     "output_type": "stream",
     "text": [
      "cma_layer: 1\n"
     ]
    },
    {
     "name": "stderr",
     "output_type": "stream",
     "text": [
      "2022-11-26 22:08:31,577 - INFO: cuda:0\n",
      "2022-11-26 22:08:31,578 - INFO: 2618183778512\n",
      "2022-11-26 22:08:31,579 - INFO: working process: load\n",
      "2022-11-26 22:08:31,602 - INFO: working process: get_data_loader\n",
      "2022-11-26 22:08:31,602 - INFO: overlap: 0.5\n",
      "2022-11-26 22:08:31,603 - INFO: working process: read_extra_audio\n",
      "E:\\OneDrive - mail.scut.edu.cn\\origin\\EEG\\eutils\\util.py:169: RuntimeWarning: overflow encountered in short_scalars\n",
      "  _range = np.max(data, axis=dim) - np.min(data, axis=dim)\n",
      "2022-11-26 22:08:41,071 - INFO: working process: subject_split\n",
      "2022-11-26 22:08:41,211 - INFO: working process: remove_repeated\n",
      "2022-11-26 22:08:44,622 - INFO: remove repeated training window: []\n",
      "2022-11-26 22:08:44,623 - INFO: working process: add_negative_samples\n",
      "2022-11-26 22:08:44,624 - INFO: add negative samples to training window: from (4600, 6) to (9200, 7)\n",
      "2022-11-26 22:08:44,624 - INFO: add negative samples to test window: from (1144, 6) to (2288, 7)\n"
     ]
    }
   ],
   "source": [
    "# 读取模型等\n",
    "# 初始化\n",
    "local, args = init(name= \"S1\", log_path = \"./result/test\", local = DotMap(), args = DotMap())\n",
    "process_steps = [read_extra_audio, subject_split]\n",
    "process_steps += [remove_repeated, add_negative_samples]\n",
    "train_steps = [load, get_data_loader]\n",
    "data_loader = None\n",
    "for j in range(len(train_steps)):\n",
    "    local.logger.info(\"working process: \" + train_steps[j].__name__)\n",
    "    data_loader, args, local = train_steps[j](data_loader=data_loader, args=args, local=local)"
   ],
   "metadata": {
    "collapsed": false,
    "pycharm": {
     "name": "#%%\n"
    }
   }
  },
  {
   "cell_type": "code",
   "execution_count": 4,
   "outputs": [
    {
     "data": {
      "text/plain": "(1436, 8, 2)"
     },
     "execution_count": 4,
     "metadata": {},
     "output_type": "execute_result"
    }
   ],
   "source": [
    "cos = cos_analysis(dataloader=data_loader, args=args, local=local)\n",
    "cos = np.array(cos)\n",
    "cos.shape"
   ],
   "metadata": {
    "collapsed": false,
    "pycharm": {
     "name": "#%%\n"
    }
   }
  },
  {
   "cell_type": "code",
   "execution_count": 5,
   "outputs": [
    {
     "data": {
      "text/plain": "array([[ 0.1043131 , -0.05273702],\n       [ 0.32050562,  0.2969748 ],\n       [-0.04107966,  0.00298737],\n       [ 0.01327665,  0.05716961],\n       [ 0.00770014,  0.00589059],\n       [ 0.02801686,  0.03135058],\n       [ 0.0053338 ,  0.00534561],\n       [ 0.09923122,  0.1119356 ]], dtype=float32)"
     },
     "execution_count": 5,
     "metadata": {},
     "output_type": "execute_result"
    }
   ],
   "source": [
    "cos[0]"
   ],
   "metadata": {
    "collapsed": false,
    "pycharm": {
     "name": "#%%\n"
    }
   }
  },
  {
   "cell_type": "code",
   "execution_count": 6,
   "outputs": [
    {
     "data": {
      "text/plain": "(array([  2.,   0.,   0.,   0.,   0.,   0.,   0.,   0.,   0.,   0.,   0.,\n          0.,   0.,   0.,   0.,   0.,   0.,   0.,   0.,   0.,   0.,   0.,\n          0.,   0.,   0.,   0.,   0.,   0.,   0.,   0.,   0.,   0.,   0.,\n          0.,   0.,   0.,   0.,   0.,   0.,   0.,   0.,   0.,   0.,   0.,\n          0.,   0.,   0.,   0.,   0.,   0.,   0.,   0.,   0.,   0.,   0.,\n          0.,   0.,   0.,   0.,   0.,   0.,   0.,   0.,   0.,   0.,   0.,\n          0.,   0.,   0.,   0.,   0.,   0.,   0.,   0.,   0.,   0.,   0.,\n          0.,   0.,   0.,   0.,   0.,   0.,   0.,   0.,   0.,   0.,   0.,\n          0.,   0.,   0.,   0.,   0.,   0.,   0.,   0.,   0.,   0.,   0.,\n          0.,   0.,   0.,   0.,   0.,   0.,   0.,   0.,   0.,   0.,   0.,\n          0.,   0.,   0.,   0.,   0.,   0.,   0.,   0.,   0.,   0.,   0.,\n          0.,   0.,   0.,   0.,   0.,   0.,   0.,   0.,   0.,   0.,   0.,\n          0.,   0.,   0.,   0.,   0.,   0.,   0.,   0.,   0.,   0.,   0.,\n          0.,   0.,   0.,   0.,   0.,   0.,   0.,   0.,   0.,   0.,   0.,\n          0.,   0.,   0.,   0.,   0.,   0.,   0.,   0.,   0.,   0.,   0.,\n          0.,   0.,   0.,   2.,   0.,   0.,   0.,   0.,   0.,   0.,   0.,\n          0.,   0.,   0.,   0.,   0.,   0.,   0.,   0.,   0.,   0.,   0.,\n          0.,   0.,   0.,   0.,   0.,   0.,   0.,   0.,   0.,   0.,   0.,\n          0.,   0.,   0.,   0.,   2.,   0.,   0.,   0.,   0.,   0.,   0.,\n          0.,   0.,   0.,   0.,   0.,   0.,   0.,   0.,   0.,   0.,   0.,\n          0.,   0.,   0.,   0.,   0.,   0.,   0.,   0.,   0.,   0.,   0.,\n          0.,   0.,   0.,   0.,   0.,   0.,   0.,   0.,   0.,   0.,   0.,\n          0.,   0.,   0.,   0.,   0.,   0.,   2.,   0.,   0.,   0.,   0.,\n          0.,   0.,   0.,   0.,   2.,   0.,   0.,   0.,   0.,   0.,   0.,\n          0.,   0.,   0.,   0.,   0.,   0.,   0.,   0.,   0.,   0.,   0.,\n          0.,   0.,   0.,   0.,   0.,   0.,   0.,   0.,   0.,   0.,   0.,\n          0.,   0.,   0.,   0.,   0.,   0.,   0.,   0.,   0.,   0.,   0.,\n          0.,   0.,   0.,   0.,   0.,   0.,   0.,   0.,   0.,   0.,   0.,\n          0.,   0.,   0.,   0.,   0.,   0.,   2.,   0.,   0.,   0.,   0.,\n          0.,   0.,   0.,   0.,   0.,   0.,   0.,   0.,   0.,   0.,   0.,\n          0.,   0.,   0.,   0.,   2.,   0.,   0.,   0.,   2.,   4.,   0.,\n          0.,   2.,   0.,   0.,   0.,   0.,   0.,   0.,   0.,   2.,   0.,\n          0.,   0.,   0.,   2.,   0.,   0.,   2.,   0.,   2.,   0.,   0.,\n          0.,   0.,   0.,   2.,   0.,   0.,   0.,   0.,   0.,   2.,   0.,\n          0.,   2.,   0.,   0.,   0.,   2.,   0.,   0.,   0.,   0.,   0.,\n          0.,   0.,   0.,   0.,   4.,   0.,   0.,   0.,   0.,   0.,   0.,\n          0.,   2.,   2.,   4.,   0.,   2.,   0.,   4.,   2.,   6.,   2.,\n          6.,   0.,   2.,   0.,   0.,   2.,   2.,   2.,   2.,   0.,   0.,\n          0.,   2.,   2.,   2.,   4.,   2.,   4.,   0.,   2.,   2.,   0.,\n          0.,   4.,   2.,   0.,   2.,   0.,   0.,   2.,   0.,   0.,   4.,\n          2.,   0.,   4.,   0.,   0.,   2.,   2.,   2.,   0.,   0.,   4.,\n          4.,   2.,   2.,   4.,   0.,   4.,   6.,   6.,   8.,   4.,   0.,\n          6.,   2.,   6.,   4.,   4.,   8.,   4.,   2.,   0.,  10.,   8.,\n         12.,   4.,  10.,  10.,   2.,   4.,  10.,  12.,  10.,   8.,   4.,\n          6.,   6.,  16.,   2.,  12.,  10.,   8.,  12.,  12.,  10.,  10.,\n         12.,   0.,  10.,  10.,   6.,   6.,  14.,   6.,   8.,  10.,  12.,\n         16.,  16.,   8.,   4.,  14.,  22.,  14.,  16.,  22.,  16.,  24.,\n          6.,  12.,  10.,  24.,  16.,  14.,  16.,  20.,  18.,   8.,  18.,\n         26.,  16.,  40.,  28.,  20.,  20.,  32.,  18.,  30.,  30.,  34.,\n         22.,  32.,  32.,  32.,  20.,  38.,  50.,  56.,  30.,  50.,  50.,\n         40.,  36.,  42.,  40.,  58.,  52.,  80.,  54.,  38.,  88.,  92.,\n         52.,  74.,  68.,  66.,  96.,  68.,  78.,  80.,  84., 102.,  78.,\n        106.,  94.,  98., 118.,  78., 110., 108.,  98.,  94., 128., 112.,\n        126., 106., 118., 106., 118., 128., 126., 156., 136., 148., 184.,\n        168., 178., 202., 160., 198., 174., 204., 250., 192., 256., 198.,\n        282., 280., 270., 244., 336., 236., 316., 276., 302., 334., 298.,\n        390., 322., 286., 324., 280., 278., 294., 296., 304., 268., 276.,\n        264., 256., 212., 222., 250., 196., 224., 190., 196., 182., 180.,\n        160., 168., 164., 152., 186., 152., 136., 154., 144., 142., 108.,\n        136., 172., 142., 152., 108., 104., 106.,  98.,  98.,  78.,  96.,\n         92.,  92.,  86.,  92.,  70.,  64.,  74.,  76.,  76.,  74.,  84.,\n         70.,  66.,  62.,  50.,  46.,  48.,  60.,  60.,  74.,  68.,  54.,\n         36.,  50.,  60.,  34.,  42.,  52.,  52.,  54.,  32.,  38.,  32.,\n         28.,  48.,  34.,  46.,  34.,  44.,  42.,  46.,  24.,  28.,  24.,\n         14.,  24.,  20.,  24.,  30.,  30.,  14.,  26.,  14.,  30.,  22.,\n         20.,  20.,  20.,  20.,  18.,  16.,  20.,  28.,   8.,  12.,  16.,\n         10.,   6.,  14.,   8.,  10.,  24.,  16.,  10.,  12.,  10.,  12.,\n         12.,   4.,  12.,   8.,  12.,   8.,   6.,  14.,   4.,   8.,  12.,\n          6.,   8.,   8.,  10.,   4.,   8.,   6.,  10.,   6.,   8.,   6.,\n          4.,   2.,   4.,   4.,   4.,   2.,   2.,   2.,   6.,   0.,   6.,\n          6.,   0.,   4.,   6.,   2.,   4.,   4.,   6.,   4.,   0.,   0.,\n          2.,   2.,   4.,   0.,   8.,   0.,   0.,   2.,   2.,   2.,   0.,\n          2.,   2.,   0.,   2.,   2.,   2.,   2.,   0.,   2.,   2.,   2.,\n          2.,   0.,   0.,   0.,   4.,   0.,   4.,   2.,   0.,   0.,   2.,\n          0.,   0.,   0.,   2.,   4.,   0.,   0.,   0.,   4.,   0.,   4.,\n          0.,   0.,   2.,   0.,   0.,   2.,   2.,   0.,   0.,   4.,   0.,\n          2.,   0.,   0.,   0.,   4.,   0.,   0.,   0.,   0.,   0.,   2.,\n          0.,   0.,   0.,   2.,   0.,   2.,   0.,   0.,   0.,   0.,   0.,\n          0.,   2.,   0.,   0.,   0.,   2.,   0.,   0.,   0.,   0.,   0.,\n          0.,   0.,   2.,   2.,   0.,   0.,   0.,   0.,   0.,   0.,   0.,\n          0.,   0.,   0.,   0.,   0.,   0.,   0.,   0.,   0.,   0.,   0.,\n          0.,   0.,   0.,   2.,   0.,   0.,   0.,   0.,   0.,   0.,   0.,\n          0.,   0.,   0.,   0.,   2.,   0.,   0.,   0.,   2.,   0.,   0.,\n          0.,   2.,   0.,   0.,   0.,   0.,   0.,   0.,   0.,   0.,   0.,\n          2.,   0.,   0.,   0.,   0.,   0.,   0.,   0.,   2.,   0.,   0.,\n          0.,   0.,   0.,   0.,   0.,   0.,   0.,   0.,   0.,   0.,   0.,\n          0.,   0.,   2.,   0.,   0.,   0.,   0.,   0.,   0.,   0.,   0.,\n          2.,   0.,   0.,   0.,   0.,   0.,   0.,   0.,   0.,   0.,   0.,\n          0.,   0.,   0.,   0.,   0.,   0.,   0.,   0.,   0.,   0.,   0.,\n          0.,   0.,   0.,   0.,   0.,   0.,   0.,   0.,   0.,   0.,   0.,\n          0.,   0.,   0.,   0.,   0.,   0.,   0.,   0.,   0.,   2.]),\n array([-1.585955  , -1.5833825 , -1.5808101 , ...,  0.9813885 ,\n         0.983961  ,  0.98653346], dtype=float32),\n <BarContainer object of 1000 artists>)"
     },
     "execution_count": 6,
     "metadata": {},
     "output_type": "execute_result"
    },
    {
     "data": {
      "text/plain": "<Figure size 432x288 with 1 Axes>",
      "image/png": "[encoded data removed]"
     },
     "metadata": {
      "needs_background": "light"
     },
     "output_type": "display_data"
    }
   ],
   "source": [
    "plt.hist(cos.flatten(), bins=1000)"
   ],
   "metadata": {
    "collapsed": false,
    "pycharm": {
     "name": "#%%\n"
    }
   }
  }
 ],
 "metadata": {
  "kernelspec": {
   "display_name": "Python 3",
   "language": "python",
   "name": "python3"
  },
  "language_info": {
   "codemirror_mode": {
    "name": "ipython",
    "version": 2
   },
   "file_extension": ".py",
   "mimetype": "text/x-python",
   "name": "python",
   "nbconvert_exporter": "python",
   "pygments_lexer": "ipython2",
   "version": "2.7.6"
  }
 },
 "nbformat": 4,
 "nbformat_minor": 0
}