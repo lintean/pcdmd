{
 "cells": [
  {
   "cell_type": "code",
   "execution_count": 2,
   "metadata": {
    "collapsed": true
   },
   "outputs": [],
   "source": [
    "import numpy as np\n",
    "import matplotlib.pyplot as plt\n",
    "import pandas as pd"
   ]
  },
  {
   "cell_type": "code",
   "execution_count": 3,
   "outputs": [
    {
     "data": {
      "text/plain": "             0         1         2         3         4         5         6   \\\n0      0.000252  0.000209 -0.000148 -0.000351 -0.000739  0.000321 -0.001934   \n1      0.016740  0.013062  0.084647  0.016583  0.059116 -0.003673 -0.128740   \n2      0.020352  0.016681 -0.053454 -0.005156 -0.075216 -0.037931 -0.118170   \n3      0.013916  0.012433 -0.269440 -0.056144 -0.325770 -0.071906 -0.047392   \n4      0.009440  0.008641 -0.265530 -0.077926 -0.387970 -0.059350 -0.113270   \n...         ...       ...       ...       ...       ...       ...       ...   \n46075 -0.026928 -0.118190 -0.042938  0.464220 -0.969480  0.035977  0.203590   \n46076 -0.017938 -0.067566  0.569170  0.843430 -0.275440  0.636840  0.316130   \n46077 -0.007612  0.012373  0.804570  1.218700  0.918660  1.255700  0.752830   \n46078 -0.008060  0.074571  0.405100  0.880140  1.326200  1.210900  1.052300   \n46079 -0.018414  0.090925 -0.292090 -0.139940  0.430210  0.193420  0.469480   \n\n             7         8         9   ...        56        57        58  \\\n0     -0.001330 -0.001163 -0.000433  ...  0.000514  0.000145  0.000241   \n1      0.342600  0.031220  0.123780  ...  0.023252 -0.013969  0.001816   \n2      0.220380  0.031664  0.007516  ...  0.085828  0.025862  0.037334   \n3      0.028274 -0.030222 -0.127610  ...  0.156500  0.042866  0.077363   \n4      0.253260 -0.078656 -0.022520  ...  0.180950 -0.011764  0.080213   \n...         ...       ...       ...  ...       ...       ...       ...   \n46075 -1.491800  0.687430  0.772340  ...  0.316600  1.111100 -0.009770   \n46076  0.327090  1.219400  0.049784  ... -0.121310  0.542950 -0.526420   \n46077  1.917000  1.708300  0.165680  ... -0.148030  0.395410 -0.527200   \n46078  1.636300  1.361900  0.669410  ...  0.625430  0.754870 -0.082026   \n46079  0.149620  0.192620  0.200230  ...  1.637800  1.146800  0.645210   \n\n             59        60        61        62        63        64        65  \n0      0.000542  0.001244  0.000387  0.001063 -0.000036  0.000358  0.000401  \n1     -0.048564 -0.044656 -0.063409 -0.058880 -0.177910 -0.072824 -0.050916  \n2      0.010198 -0.024192 -0.051010 -0.074083 -0.062268 -0.042206 -0.054799  \n3      0.103250  0.066268  0.053082 -0.059053  0.159560  0.027510 -0.030071  \n4      0.106290  0.117800  0.115070 -0.090487  0.147600  0.018322 -0.038933  \n...         ...       ...       ...       ...       ...       ...       ...  \n46075 -0.202500 -0.474830 -1.019500 -1.143400 -0.867490 -0.364630 -0.533090  \n46076 -0.685630 -0.758120 -0.878250 -1.518200 -1.082300 -0.406940 -1.185600  \n46077 -0.702180 -1.101600 -0.995040 -2.031700 -1.478200 -0.518020 -1.426000  \n46078  0.118250 -0.530760 -0.633800 -1.723400 -0.876210 -0.145250 -0.680110  \n46079  1.458400  1.096100  0.622510 -0.346000  0.872130  1.124100  0.973310  \n\n[46080 rows x 66 columns]",
      "text/html": "<div>\n<style scoped>\n    .dataframe tbody tr th:only-of-type {\n        vertical-align: middle;\n    }\n\n    .dataframe tbody tr th {\n        vertical-align: top;\n    }\n\n    .dataframe thead th {\n        text-align: right;\n    }\n</style>\n<table border=\"1\" class=\"dataframe\">\n  <thead>\n    <tr style=\"text-align: right;\">\n      <th></th>\n      <th>0</th>\n      <th>1</th>\n      <th>2</th>\n      <th>3</th>\n      <th>4</th>\n      <th>5</th>\n      <th>6</th>\n      <th>7</th>\n      <th>8</th>\n      <th>9</th>\n      <th>...</th>\n      <th>56</th>\n      <th>57</th>\n      <th>58</th>\n      <th>59</th>\n      <th>60</th>\n      <th>61</th>\n      <th>62</th>\n      <th>63</th>\n      <th>64</th>\n      <th>65</th>\n    </tr>\n  </thead>\n  <tbody>\n    <tr>\n      <th>0</th>\n      <td>0.000252</td>\n      <td>0.000209</td>\n      <td>-0.000148</td>\n      <td>-0.000351</td>\n      <td>-0.000739</td>\n      <td>0.000321</td>\n      <td>-0.001934</td>\n      <td>-0.001330</td>\n      <td>-0.001163</td>\n      <td>-0.000433</td>\n      <td>...</td>\n      <td>0.000514</td>\n      <td>0.000145</td>\n      <td>0.000241</td>\n      <td>0.000542</td>\n      <td>0.001244</td>\n      <td>0.000387</td>\n      <td>0.001063</td>\n      <td>-0.000036</td>\n      <td>0.000358</td>\n      <td>0.000401</td>\n    </tr>\n    <tr>\n      <th>1</th>\n      <td>0.016740</td>\n      <td>0.013062</td>\n      <td>0.084647</td>\n      <td>0.016583</td>\n      <td>0.059116</td>\n      <td>-0.003673</td>\n      <td>-0.128740</td>\n      <td>0.342600</td>\n      <td>0.031220</td>\n      <td>0.123780</td>\n      <td>...</td>\n      <td>0.023252</td>\n      <td>-0.013969</td>\n      <td>0.001816</td>\n      <td>-0.048564</td>\n      <td>-0.044656</td>\n      <td>-0.063409</td>\n      <td>-0.058880</td>\n      <td>-0.177910</td>\n      <td>-0.072824</td>\n      <td>-0.050916</td>\n    </tr>\n    <tr>\n      <th>2</th>\n      <td>0.020352</td>\n      <td>0.016681</td>\n      <td>-0.053454</td>\n      <td>-0.005156</td>\n      <td>-0.075216</td>\n      <td>-0.037931</td>\n      <td>-0.118170</td>\n      <td>0.220380</td>\n      <td>0.031664</td>\n      <td>0.007516</td>\n      <td>...</td>\n      <td>0.085828</td>\n      <td>0.025862</td>\n      <td>0.037334</td>\n      <td>0.010198</td>\n      <td>-0.024192</td>\n      <td>-0.051010</td>\n      <td>-0.074083</td>\n      <td>-0.062268</td>\n      <td>-0.042206</td>\n      <td>-0.054799</td>\n    </tr>\n    <tr>\n      <th>3</th>\n      <td>0.013916</td>\n      <td>0.012433</td>\n      <td>-0.269440</td>\n      <td>-0.056144</td>\n      <td>-0.325770</td>\n      <td>-0.071906</td>\n      <td>-0.047392</td>\n      <td>0.028274</td>\n      <td>-0.030222</td>\n      <td>-0.127610</td>\n      <td>...</td>\n      <td>0.156500</td>\n      <td>0.042866</td>\n      <td>0.077363</td>\n      <td>0.103250</td>\n      <td>0.066268</td>\n      <td>0.053082</td>\n      <td>-0.059053</td>\n      <td>0.159560</td>\n      <td>0.027510</td>\n      <td>-0.030071</td>\n    </tr>\n    <tr>\n      <th>4</th>\n      <td>0.009440</td>\n      <td>0.008641</td>\n      <td>-0.265530</td>\n      <td>-0.077926</td>\n      <td>-0.387970</td>\n      <td>-0.059350</td>\n      <td>-0.113270</td>\n      <td>0.253260</td>\n      <td>-0.078656</td>\n      <td>-0.022520</td>\n      <td>...</td>\n      <td>0.180950</td>\n      <td>-0.011764</td>\n      <td>0.080213</td>\n      <td>0.106290</td>\n      <td>0.117800</td>\n      <td>0.115070</td>\n      <td>-0.090487</td>\n      <td>0.147600</td>\n      <td>0.018322</td>\n      <td>-0.038933</td>\n    </tr>\n    <tr>\n      <th>...</th>\n      <td>...</td>\n      <td>...</td>\n      <td>...</td>\n      <td>...</td>\n      <td>...</td>\n      <td>...</td>\n      <td>...</td>\n      <td>...</td>\n      <td>...</td>\n      <td>...</td>\n      <td>...</td>\n      <td>...</td>\n      <td>...</td>\n      <td>...</td>\n      <td>...</td>\n      <td>...</td>\n      <td>...</td>\n      <td>...</td>\n      <td>...</td>\n      <td>...</td>\n      <td>...</td>\n    </tr>\n    <tr>\n      <th>46075</th>\n      <td>-0.026928</td>\n      <td>-0.118190</td>\n      <td>-0.042938</td>\n      <td>0.464220</td>\n      <td>-0.969480</td>\n      <td>0.035977</td>\n      <td>0.203590</td>\n      <td>-1.491800</td>\n      <td>0.687430</td>\n      <td>0.772340</td>\n      <td>...</td>\n      <td>0.316600</td>\n      <td>1.111100</td>\n      <td>-0.009770</td>\n      <td>-0.202500</td>\n      <td>-0.474830</td>\n      <td>-1.019500</td>\n      <td>-1.143400</td>\n      <td>-0.867490</td>\n      <td>-0.364630</td>\n      <td>-0.533090</td>\n    </tr>\n    <tr>\n      <th>46076</th>\n      <td>-0.017938</td>\n      <td>-0.067566</td>\n      <td>0.569170</td>\n      <td>0.843430</td>\n      <td>-0.275440</td>\n      <td>0.636840</td>\n      <td>0.316130</td>\n      <td>0.327090</td>\n      <td>1.219400</td>\n      <td>0.049784</td>\n      <td>...</td>\n      <td>-0.121310</td>\n      <td>0.542950</td>\n      <td>-0.526420</td>\n      <td>-0.685630</td>\n      <td>-0.758120</td>\n      <td>-0.878250</td>\n      <td>-1.518200</td>\n      <td>-1.082300</td>\n      <td>-0.406940</td>\n      <td>-1.185600</td>\n    </tr>\n    <tr>\n      <th>46077</th>\n      <td>-0.007612</td>\n      <td>0.012373</td>\n      <td>0.804570</td>\n      <td>1.218700</td>\n      <td>0.918660</td>\n      <td>1.255700</td>\n      <td>0.752830</td>\n      <td>1.917000</td>\n      <td>1.708300</td>\n      <td>0.165680</td>\n      <td>...</td>\n      <td>-0.148030</td>\n      <td>0.395410</td>\n      <td>-0.527200</td>\n      <td>-0.702180</td>\n      <td>-1.101600</td>\n      <td>-0.995040</td>\n      <td>-2.031700</td>\n      <td>-1.478200</td>\n      <td>-0.518020</td>\n      <td>-1.426000</td>\n    </tr>\n    <tr>\n      <th>46078</th>\n      <td>-0.008060</td>\n      <td>0.074571</td>\n      <td>0.405100</td>\n      <td>0.880140</td>\n      <td>1.326200</td>\n      <td>1.210900</td>\n      <td>1.052300</td>\n      <td>1.636300</td>\n      <td>1.361900</td>\n      <td>0.669410</td>\n      <td>...</td>\n      <td>0.625430</td>\n      <td>0.754870</td>\n      <td>-0.082026</td>\n      <td>0.118250</td>\n      <td>-0.530760</td>\n      <td>-0.633800</td>\n      <td>-1.723400</td>\n      <td>-0.876210</td>\n      <td>-0.145250</td>\n      <td>-0.680110</td>\n    </tr>\n    <tr>\n      <th>46079</th>\n      <td>-0.018414</td>\n      <td>0.090925</td>\n      <td>-0.292090</td>\n      <td>-0.139940</td>\n      <td>0.430210</td>\n      <td>0.193420</td>\n      <td>0.469480</td>\n      <td>0.149620</td>\n      <td>0.192620</td>\n      <td>0.200230</td>\n      <td>...</td>\n      <td>1.637800</td>\n      <td>1.146800</td>\n      <td>0.645210</td>\n      <td>1.458400</td>\n      <td>1.096100</td>\n      <td>0.622510</td>\n      <td>-0.346000</td>\n      <td>0.872130</td>\n      <td>1.124100</td>\n      <td>0.973310</td>\n    </tr>\n  </tbody>\n</table>\n<p>46080 rows × 66 columns</p>\n</div>"
     },
     "execution_count": 3,
     "metadata": {},
     "output_type": "execute_result"
    }
   ],
   "source": [
    "file = f\"D:/eegdata/KUL_single_single_snn_1to32_mean/No/S1Tra1.csv\"\n",
    "data = pd.read_csv(file, index_col=None, header=None)\n",
    "data"
   ],
   "metadata": {
    "collapsed": false,
    "pycharm": {
     "name": "#%%\n"
    }
   }
  },
  {
   "cell_type": "code",
   "execution_count": 4,
   "outputs": [
    {
     "data": {
      "text/plain": "(46080, 66)"
     },
     "execution_count": 4,
     "metadata": {},
     "output_type": "execute_result"
    }
   ],
   "source": [
    "data = data.to_numpy()\n",
    "data.shape"
   ],
   "metadata": {
    "collapsed": false,
    "pycharm": {
     "name": "#%%\n"
    }
   }
  },
  {
   "cell_type": "code",
   "execution_count": 5,
   "outputs": [],
   "source": [
    "def get_fig(figsize=[5,1]):\n",
    "    fig, ax = plt.subplots(figsize=figsize)\n",
    "    ax.spines['top'].set_visible(False)\n",
    "    ax.spines['right'].set_visible(False)\n",
    "    ax.spines['bottom'].set_visible(False)\n",
    "    ax.spines['left'].set_visible(False)\n",
    "    plt.axis('off')\n",
    "    return fig, ax"
   ],
   "metadata": {
    "collapsed": false,
    "pycharm": {
     "name": "#%%\n"
    }
   }
  },
  {
   "cell_type": "code",
   "execution_count": 9,
   "outputs": [
    {
     "data": {
      "text/plain": "<Figure size 360x72 with 1 Axes>",
      "image/png": "[encoded data removed]"
     },
     "metadata": {
      "needs_background": "light"
     },
     "output_type": "display_data"
    }
   ],
   "source": [
    "fig, ax = get_fig()\n",
    "plt.plot(data[5000:5000+128 * 2, 8])\n",
    "fig.savefig(f\"./eeg8.png\", format='png', transparent=True)"
   ],
   "metadata": {
    "collapsed": false,
    "pycharm": {
     "name": "#%%\n"
    }
   }
  },
  {
   "cell_type": "code",
   "execution_count": 10,
   "outputs": [
    {
     "data": {
      "text/plain": "<Figure size 360x72 with 1 Axes>",
      "image/png": "[encoded data removed]"
     },
     "metadata": {
      "needs_background": "light"
     },
     "output_type": "display_data"
    }
   ],
   "source": [
    "fig, ax = get_fig()\n",
    "plt.plot(data[1000:1000+128 * 2, 9])\n",
    "fig.savefig(f\"./eeg9.png\", format='png', transparent=True)"
   ],
   "metadata": {
    "collapsed": false,
    "pycharm": {
     "name": "#%%\n"
    }
   }
  },
  {
   "cell_type": "code",
   "execution_count": 11,
   "outputs": [
    {
     "data": {
      "text/plain": "<Figure size 360x72 with 1 Axes>",
      "image/png": "[encoded data removed]"
     },
     "metadata": {
      "needs_background": "light"
     },
     "output_type": "display_data"
    }
   ],
   "source": [
    "fig, ax = get_fig()\n",
    "plt.plot(data[10000:10000+128 * 2, 10])\n",
    "fig.savefig(f\"./eeg10.png\", format='png', transparent=True)"
   ],
   "metadata": {
    "collapsed": false,
    "pycharm": {
     "name": "#%%\n"
    }
   }
  },
  {
   "cell_type": "code",
   "execution_count": 174,
   "outputs": [
    {
     "data": {
      "text/plain": "<Figure size 360x72 with 1 Axes>",
      "image/png": "[encoded data removed]"
     },
     "metadata": {
      "needs_background": "light"
     },
     "output_type": "display_data"
    }
   ],
   "source": [
    "file = f\"E:\\\\school\\\\origin\\EEG\\\\result\\BSApic\\\\RSNN_KUL_1\\\\flod_0\\S1\\\\0_encoder_4.csv\"\n",
    "spike = pd.read_csv(file, index_col=None, header=None)\n",
    "spike = spike.to_numpy()\n",
    "trains = np.arange(0, 128)\n",
    "spike = spike * trains\n",
    "fig, ax = get_fig([5, 1])\n",
    "plt.eventplot(spike[8], colors=\"black\")\n",
    "fig.savefig(f\"./spike1.png\", format='png', transparent=True)"
   ],
   "metadata": {
    "collapsed": false,
    "pycharm": {
     "name": "#%%\n"
    }
   }
  },
  {
   "cell_type": "code",
   "execution_count": 175,
   "outputs": [
    {
     "data": {
      "text/plain": "<Figure size 360x72 with 1 Axes>",
      "image/png": "[encoded data removed]"
     },
     "metadata": {
      "needs_background": "light"
     },
     "output_type": "display_data"
    }
   ],
   "source": [
    "file = f\"E:\\\\school\\\\origin\\EEG\\\\result\\BSApic\\\\RSNN_KUL_1\\\\flod_0\\S1\\\\13_encoder_4.csv\"\n",
    "spike = pd.read_csv(file, index_col=None, header=None)\n",
    "spike = spike.to_numpy()\n",
    "trains = np.arange(0, 128)\n",
    "spike = spike * trains\n",
    "fig, ax = get_fig([5, 1])\n",
    "plt.eventplot(spike[3], colors=\"black\")\n",
    "fig.savefig(f\"./spike2.png\", format='png', transparent=True)"
   ],
   "metadata": {
    "collapsed": false,
    "pycharm": {
     "name": "#%%\n"
    }
   }
  },
  {
   "cell_type": "code",
   "execution_count": 176,
   "outputs": [
    {
     "data": {
      "text/plain": "<Figure size 360x72 with 1 Axes>",
      "image/png": "[encoded data removed]"
     },
     "metadata": {
      "needs_background": "light"
     },
     "output_type": "display_data"
    }
   ],
   "source": [
    "file = f\"E:\\\\school\\\\origin\\EEG\\\\result\\BSApic\\\\RSNN_KUL_1\\\\flod_0\\S1\\\\16_encoder_4.csv\"\n",
    "spike = pd.read_csv(file, index_col=None, header=None)\n",
    "spike = spike.to_numpy()\n",
    "trains = np.arange(0, 128)\n",
    "spike = spike * trains\n",
    "fig, ax = get_fig([5, 1])\n",
    "plt.eventplot(spike[3], colors=\"black\")\n",
    "fig.savefig(f\"./spike3.png\", format='png', transparent=True)"
   ],
   "metadata": {
    "collapsed": false,
    "pycharm": {
     "name": "#%%\n"
    }
   }
  }
 ],
 "metadata": {
  "kernelspec": {
   "display_name": "Python 3",
   "language": "python",
   "name": "python3"
  },
  "language_info": {
   "codemirror_mode": {
    "name": "ipython",
    "version": 2
   },
   "file_extension": ".py",
   "mimetype": "text/x-python",
   "name": "python",
   "nbconvert_exporter": "python",
   "pygments_lexer": "ipython2",
   "version": "2.7.6"
  }
 },
 "nbformat": 4,
 "nbformat_minor": 0
}