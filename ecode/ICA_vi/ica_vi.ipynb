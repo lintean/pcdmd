{
 "cells": [
  {
   "cell_type": "code",
   "execution_count": null,
   "metadata": {
    "collapsed": true,
    "pycharm": {
     "is_executing": true
    }
   },
   "outputs": [],
   "source": [
    "import mne\n",
    "import numpy as np\n",
    "from mne.preprocessing import ICA, corrmap\n",
    "from mne_icalabel import label_components\n",
    "from eutils.preproc.preprocess import data_loader, set_info, montage_dict, fs_dict"
   ]
  },
  {
   "cell_type": "code",
   "execution_count": null,
   "outputs": [],
   "source": [
    "dataset_name = \"KUL\"\n",
    "sub_id = \"1\"\n",
    "l_freq = 1\n",
    "h_freq = 32\n",
    "label_type = 'direction'\n",
    "\n",
    "data, label = data_loader(dataset_name, sub_id, label_type)"
   ],
   "metadata": {
    "collapsed": false,
    "pycharm": {
     "name": "#%%\n"
    }
   }
  },
  {
   "cell_type": "code",
   "execution_count": null,
   "outputs": [],
   "source": [
    "# ica_dict = {'KUL': [0, 2], 'DTU': ['eog1', 'eog2', 'eog3', 'eog4', 'eog5', 'eog6'], 'SCUT': [0, 1]}\n",
    "ica_dict = {'KUL': [0, 2], 'DTU': [0, 1, 7], 'SCUT': [0, 1]}  # 没有50Hz去工频电的ica\n",
    "# ica_dict = {'KUL': [], 'DTU': [0, 5], 'SCUT': []}  # 去掉工频电后的ica\n",
    "\n",
    "# 准备电极信息\n",
    "info = set_info(dataset_name)\n",
    "\n",
    "# 加载模板数据（S1-Trail1）\n",
    "data_tmp, label_tmp = data_loader(dataset_name, '1', label_type)\n",
    "data_tmp = np.transpose(data_tmp, (0, 2, 1))\n",
    "data_tmp = data_tmp[0]\n",
    "\n",
    "# 计算ica通道\n",
    "raw_tmp = mne.io.RawArray(data_tmp, info)\n",
    "raw_tmp = raw_tmp.filter(l_freq=1, h_freq=None)\n",
    "raw_tmp.set_montage(montage_dict[dataset_name])\n",
    "ica_tmp = ICA(n_components=20, max_iter='auto', random_state=97)\n",
    "ica_tmp.fit(raw_tmp)\n",
    "\n",
    "# 去眼电\n",
    "is_verbose = True\n",
    "data = np.transpose(data, (0, 2, 1))\n",
    "# for k_tra in range(data.shape[0]):\n",
    "k_tra = 0\n",
    "print(f'data ica, trail: {k_tra}')\n",
    "\n",
    "# 将原始数据转化为raw格式文件\n",
    "raw = mne.io.RawArray(data[k_tra], info, verbose=is_verbose)\n",
    "\n",
    "# 计算ica数据\n",
    "raw = raw.filter(l_freq=1, h_freq=None, verbose=is_verbose)\n",
    "ica = ICA(n_components=20, max_iter='auto', random_state=97, verbose=is_verbose)  # 97为随机种子\n",
    "ica.fit(raw)"
   ],
   "metadata": {
    "collapsed": false,
    "pycharm": {
     "name": "#%%\n"
    }
   }
  },
  {
   "cell_type": "code",
   "execution_count": null,
   "outputs": [],
   "source": [
    "ic_labels = label_components(raw, ica, method=\"iclabel\")"
   ],
   "metadata": {
    "collapsed": false,
    "pycharm": {
     "name": "#%%\n"
    }
   }
  }
 ],
 "metadata": {
  "kernelspec": {
   "display_name": "Python 3",
   "language": "python",
   "name": "python3"
  },
  "language_info": {
   "codemirror_mode": {
    "name": "ipython",
    "version": 2
   },
   "file_extension": ".py",
   "mimetype": "text/x-python",
   "name": "python",
   "nbconvert_exporter": "python",
   "pygments_lexer": "ipython2",
   "version": "2.7.6"
  }
 },
 "nbformat": 4,
 "nbformat_minor": 0
}